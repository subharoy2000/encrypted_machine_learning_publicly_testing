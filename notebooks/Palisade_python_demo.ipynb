{
  "nbformat": 4,
  "nbformat_minor": 0,
  "metadata": {
    "colab": {
      "name": "Palisade_python_demo.ipynb",
      "provenance": [],
      "collapsed_sections": []
    },
    "kernelspec": {
      "name": "python3",
      "display_name": "Python 3"
    },
    "language_info": {
      "name": "python"
    }
  },
  "cells": [
    {
      "cell_type": "markdown",
      "metadata": {
        "id": "5WXajS9CLzsl"
      },
      "source": [
        "This notebook adapted from https://gitlab.com/palisade/palisade-python-demo\n",
        "\n",
        "Visit the original project for bug reports, updates and local installation instructions.\n",
        "\n",
        "---\n",
        "\n",
        "<a href=\"https://colab.research.google.com/github/subharoy2000/encrypted_machine_learning_publicly_testing/blob/main/Palisade_python_demo.ipynb\" target=\"_parent\"><img src=\"https://colab.research.google.com/assets/colab-badge.svg\" alt=\"Open In Colab\"/></a>\n",
        "\n"
      ]
    },
    {
      "cell_type": "code",
      "source": [
        "!git clone https://github.com/subharoy2000/encrypted_machine_learning_publicly_testing.git"
      ],
      "metadata": {
        "id": "NlgyhpBTObI6",
        "outputId": "5a935982-3b99-4177-ef08-175bd6d8d831",
        "colab": {
          "base_uri": "https://localhost:8080/",
          "height": 0
        }
      },
      "execution_count": 132,
      "outputs": [
        {
          "output_type": "stream",
          "name": "stdout",
          "text": [
            "fatal: destination path 'encrypted_machine_learning_publicly_testing' already exists and is not an empty directory.\n"
          ]
        }
      ]
    },
    {
      "cell_type": "code",
      "metadata": {
        "id": "1IHOEAKQBGBB",
        "colab": {
          "base_uri": "https://localhost:8080/",
          "height": 0
        },
        "outputId": "11fa5c08-3df9-455b-ceaf-f9cf37925521"
      },
      "source": [
        "!rm -rf encrypted_machine_learning_publicly_testing\n",
        "!git clone https://github.com/subharoy2000/encrypted_machine_learning_publicly_testing.git"
      ],
      "execution_count": 133,
      "outputs": [
        {
          "output_type": "stream",
          "name": "stdout",
          "text": [
            "Cloning into 'encrypted_machine_learning_publicly_testing'...\n",
            "remote: Enumerating objects: 312, done.\u001b[K\n",
            "remote: Counting objects: 100% (109/109), done.\u001b[K\n",
            "remote: Compressing objects: 100% (52/52), done.\u001b[K\n",
            "remote: Total 312 (delta 57), reused 109 (delta 57), pack-reused 203\u001b[K\n",
            "Receiving objects: 100% (312/312), 7.72 MiB | 36.77 MiB/s, done.\n",
            "Resolving deltas: 100% (154/154), done.\n"
          ]
        }
      ]
    },
    {
      "cell_type": "code",
      "metadata": {
        "id": "YxREGIVGUzxg"
      },
      "source": [
        "!cp encrypted_machine_learning_publicly_testing/dependencies/palisade-install.tar.gz /content; cd /content; tar -xzf palisade-install.tar.gz"
      ],
      "execution_count": 134,
      "outputs": []
    },
    {
      "cell_type": "code",
      "metadata": {
        "id": "tE3paQGhVCkW"
      },
      "source": [
        "!mkdir -p encrypted_machine_learning_publicly_testing/build/lib\n",
        "!cd encrypted_machine_learning_publicly_testing; c++ -fopenmp -fPIC -std=gnu++11 `python3.7-config --cflags` `python3.7-config --includes` -I/content/palisade-install/include/palisade{,/core,/pke,/third-party/inclue} -o build/lib/ckks_wrapper.o -c src/ckks_wrapper.cpp \n",
        "!cd encrypted_machine_learning_publicly_testing; c++ -fopenmp -fPIC -std=gnu++11 `python3.7-config --cflags` `python3.7-config --includes` -I/content/palisade-install/include/palisade{,/core,/pke,/third-party/inclue} -o build/lib/pycrypto.o -c src/pycrypto.cpp \n",
        "!cd encrypted_machine_learning_publicly_testing; /usr/bin/c++ -fPIC  -Wall -Werror -O3  `python3.7-config --ldflags` -DPALISADE_VERSION=1.11.4 -Wno-parentheses -fopenmp -shared -Wl,-soname,pycrypto.so.1 -lpython3.7m -o build/lib/pycrypto.so.1 build/lib/ckks_wrapper.o build/lib/pycrypto.o   -L/content/palisade-install/lib  -Wl,-rpath,/content/palisade-install/lib:  /content/palisade-install/lib/libPALISADEcore.so.1 /content/palisade-install/lib/libPALISADEbinfhe.so.1 /content/palisade-install/lib/libPALISADEpke.so.1  /usr/lib/x86_64-linux-gnu/libpython3.7m.so /usr/lib/x86_64-linux-gnu/libboost_python3-py36.so \n",
        "!cd encrypted_machine_learning_publicly_testing/build/lib; ln -s pycrypto.so.1 pycrypto.so"
      ],
      "execution_count": 135,
      "outputs": []
    },
    {
      "cell_type": "code",
      "metadata": {
        "id": "b41NXFY9VFbq"
      },
      "source": [
        "import sys\n",
        "sys.path.append('encrypted_machine_learning_publicly_testing/build/lib')\n",
        "\n",
        "import pycrypto"
      ],
      "execution_count": 136,
      "outputs": []
    },
    {
      "cell_type": "code",
      "metadata": {
        "id": "UgtsP4kCVI8S"
      },
      "source": [
        "import random\n",
        "import numpy as np\n",
        "import csv\n",
        "from sklearn.model_selection import train_test_split\n",
        "from sklearn.svm import SVC\n",
        "from sklearn.metrics import confusion_matrix, accuracy_score "
      ],
      "execution_count": 137,
      "outputs": []
    },
    {
      "cell_type": "code",
      "metadata": {
        "id": "L0UKAvs_Vh_5"
      },
      "source": [
        "############################################\n",
        "# computes next smallest power of two >= x\n",
        "\n",
        "def next_power_of_2(x):\n",
        "    return 1 if x == 0 else 2**(x - 1).bit_length()\n",
        "\n",
        "############################################\n",
        "# Reads lsvm-model.csv file and returns:\n",
        "# beta - scaled beta, i.e. beta/s\n",
        "# bias - scaled bias, i.e. bias/s\n",
        "# feature_count - beta length\n",
        "\n",
        "def read_model_data(model_csv):\n",
        "    csv_file = open(model_csv)\n",
        "    csv_reader = csv.reader(csv_file, delimiter=\",\")\n",
        "    feature_count = 0\n",
        "    beta = []\n",
        "    for row in csv_reader:\n",
        "        if feature_count == 0:\n",
        "            s = float(row[0])\n",
        "            print('s ', s)\n",
        "        else:\n",
        "            beta.append(float(row[0]))\n",
        "        feature_count += 1\n",
        "    feature_count = feature_count - 2\n",
        "    bias = beta[feature_count:(feature_count + 1)]\n",
        "    beta = beta[0:feature_count]\n",
        "    beta[:] = [item / s for item in beta]\n",
        "    return beta, bias, feature_count\n",
        "\n",
        "############################################\n",
        "# Reads lsvm-model.csv file and returns:\n",
        "# beta - scaled beta, i.e. beta/s\n",
        "# bias - scaled bias, i.e. bias/s\n",
        "# feature_count - beta length\n",
        "# mu - data normalization parameter\n",
        "# sigma - data normalization parameter\n",
        "\n",
        "\n",
        "def read_model_data_unnorm(model_csv):\n",
        "    csv_file = open(model_csv)\n",
        "    csv_reader = csv.reader(csv_file, delimiter=\",\")\n",
        "    feature_count = 0\n",
        "    beta = []\n",
        "    mu = []\n",
        "    sigma = []\n",
        "    for row in csv_reader:\n",
        "        if feature_count == 0:\n",
        "            s = float(row[0])\n",
        "            print('s ', s)\n",
        "        else:\n",
        "            beta.append(float(row[0]))\n",
        "            mu.append(float(row[1]))\n",
        "            sigma.append(float(row[2]))\n",
        "        feature_count += 1\n",
        "    feature_count = feature_count - 2\n",
        "    bias = beta[feature_count:(feature_count + 1)]\n",
        "    beta = beta[0:feature_count]\n",
        "    beta[:] = [item / s for item in beta]\n",
        "    return beta, bias, feature_count, mu, sigma\n",
        "\n",
        "############################################\n",
        "# Reads lsvm-input.csv file and outputs:\n",
        "# x - list of input vectors\n",
        "# input_count - x length\n",
        "\n",
        "def read_input_data(input_csv):\n",
        "    csv_file = open(input_csv)\n",
        "    csv_reader = csv.reader(csv_file, delimiter=\",\")\n",
        "    input_count = 0\n",
        "    x = []\n",
        "    for row in csv_reader:\n",
        "        xitem = []\n",
        "        for column in row:\n",
        "            xitem.append(float(column))\n",
        "        x.append(xitem);\n",
        "        input_count += 1\n",
        "    return x, input_count\n",
        "\n",
        "############################################\n",
        "# Reads lsvm-input.csv file together with\n",
        "# normalization parameters and outputs:\n",
        "# x - list of input vectors\n",
        "# input_count - x length\n",
        "\n",
        "def read_input_data_unnorm(input_csv, mu, sigma):\n",
        "    csv_file = open(input_csv)\n",
        "    csv_reader = csv.reader(csv_file, delimiter=\",\")\n",
        "    input_count = 0\n",
        "    x = []\n",
        "    for row in csv_reader:\n",
        "        xitem = []\n",
        "        colcount = 0\n",
        "        for column in row:\n",
        "            xitem.append(\n",
        "                (float(column) - float(mu[colcount])) / float(sigma[colcount])\n",
        "            )\n",
        "        colcount += 1\n",
        "        x.append(xitem);\n",
        "        input_count += 1\n",
        "    return x, input_count\n",
        "\n",
        "############################################\n",
        "# Reads lsvm-check.csv file and outputs:\n",
        "# check - check list of +1/-1\n",
        "# check_count - check length\n",
        "\n",
        "def read_check_data(check_csv):\n",
        "    csv_file = open(check_csv)\n",
        "    csv_reader = csv.reader(csv_file, delimiter=\",\")\n",
        "    check_count = 0\n",
        "    check = []\n",
        "    for row in csv_reader:\n",
        "        check.append(float(row[0]));\n",
        "        check_count += 1\n",
        "    return check, check_count\n",
        "\n",
        "############################################\n",
        "# Shuffles the input and check lists\n",
        "# This function is needed if we test random sublists\n",
        "def shuffle_data(x, check):\n",
        "    c = list(zip(x, check))\n",
        "    random.shuffle(c)\n",
        "    x, check = zip(*c)\n",
        "    return x, check\n",
        "\n",
        "\n",
        "############################################\n",
        "# Plaintext version of lsvm\n",
        "# num - number of inputs to be tested\n",
        "# Outputs prediction list\n",
        "\n",
        "def lsvm_plain_beta_plain_input(beta, bias, x, num):\n",
        "    res = []\n",
        "    for i in range(num):\n",
        "        betaxi = [a * b for a, b in zip(beta, x[i])]\n",
        "        ip = sum(betaxi)\n",
        "        ip = ip + bias[0]\n",
        "        res.append(ip)\n",
        "    return res\n",
        "\n",
        "\n",
        "############################################\n",
        "# Encrypt the input to the lsvm\n",
        "# num - number of inputs to be enrypted\n",
        "\n",
        "def enc_input(crypto, x, num):\n",
        "    enc_x = []\n",
        "    for i in range(num):\n",
        "        enc_x.append(crypto.Encrypt(x[i]))\n",
        "    return enc_x\n",
        "\n",
        "\n",
        "############################################\n",
        "# Encrypted version of lsvm with\n",
        "# encrypted beta and bias and\n",
        "# unencrypted input\n",
        "# num - number of inputs to be tested\n",
        "# Outputs encrypted prediction list\n",
        "\n",
        "def lsvm_enc_beta_plain_input(crypto, enc_beta, enc_bias, x, num):\n",
        "    enc_res = []\n",
        "    for i in range(num):\n",
        "        enc_betaxi = crypto.EvalMultConst(enc_beta, x[i])\n",
        "        enc_ip = crypto.EvalSum(enc_betaxi, next_power_of_2(feature_count))\n",
        "        enc_svm = crypto.EvalAdd(enc_ip, enc_bias)\n",
        "        enc_res.append(enc_svm)\n",
        "    return enc_res\n",
        "\n",
        "############################################\n",
        "# Encrypted version of lsvm with\n",
        "# encrypted beta and bias and\n",
        "# encrypted input\n",
        "# num - number of inputs to be tested\n",
        "# Outputs encrypted prediction list\n",
        "\n",
        "def lsvm_enc_beta_enc_input(crypto, enc_beta, enc_bias, enc_x, num):\n",
        "    enc_res = []\n",
        "    for i in range(num):\n",
        "        enc_betaxi = crypto.EvalMult(enc_beta, enc_x[i])\n",
        "        enc_ip = crypto.EvalSum(enc_betaxi, next_power_of_2(feature_count))\n",
        "        enc_svm = crypto.EvalAdd(enc_ip, enc_bias)\n",
        "        enc_res.append(enc_svm)\n",
        "    return enc_res\n",
        "\n",
        "############################################\n",
        "# Decrypt the output of the LSVM\n",
        "# num - number of outputs to be decrypted\n",
        "\n",
        "def dec_output(crypto, enc_res, num):\n",
        "    res = []\n",
        "    for i in range(num):\n",
        "        dec_res = crypto.Decrypt(enc_res[i])\n",
        "        res.append(dec_res[0])\n",
        "    return res\n",
        "\n",
        "############################################\n",
        "# Timing utilities\n",
        "############################################\n",
        "# check the default timer and return the start time in uSec\n",
        "\n",
        "def tic():\n",
        "    import timeit\n",
        "    start_time = timeit.default_timer()\n",
        "    return start_time\n",
        "\n",
        "############################################\n",
        "# check the default timer return elapsed time from start_t\n",
        "\n",
        "def toc(start_time):\n",
        "    import timeit\n",
        "    elapsed = timeit.default_timer() - start_time\n",
        "    return elapsed\n",
        "\n",
        "############################################\n",
        "# same as toc except the result is printed and no value returned\n",
        "\n",
        "\n",
        "def print_toc(start_time, printstring, units=\"msec\"):\n",
        "    import timeit\n",
        "    elapsed = timeit.default_timer() - start_time\n",
        "    if units == \"msec\":\n",
        "        elapsed *= 1000.0\n",
        "        print(printstring, \" {0:5.3f} ms\".format(elapsed))\n",
        "        return elapsed\n",
        "    else:\n",
        "        print(\"unknown units\")\n",
        "        "
      ],
      "execution_count": 138,
      "outputs": []
    },
    {
      "cell_type": "code",
      "metadata": {
        "colab": {
          "base_uri": "https://localhost:8080/",
          "height": 0
        },
        "id": "NInekr-TVimJ",
        "outputId": "f3d8d812-0247-4295-d88f-e7d40ff0425b"
      },
      "source": [
        "############################################\n",
        "# Main Program\n",
        "############################################\n",
        "\n",
        "model = \"credit\"\n",
        "verbose = True\n",
        "num_test = 1\n",
        "\n",
        "print(\"verbose \", verbose)\n",
        "print(\"model \", model)\n",
        "\n",
        "# credit and  ovarian models are stored unnormalized\n",
        "model_fn = \"encrypted_machine_learning_publicly_testing/data/lsvm-\" + model + \"-model.csv\"\n",
        "input_fn = \"encrypted_machine_learning_publicly_testing/data/lsvm-\" + model + \"-input.csv\"\n",
        "check_fn = \"encrypted_machine_learning_publicly_testing/data/lsvm-\" + model + \"-check.csv\"\n",
        "if (model == \"credit\" or model == \"ovarian\"):\n",
        "    beta, bias, feature_count, mu, sigma = read_model_data_unnorm(model_fn)\n",
        "    x, input_count=read_input_data_unnorm(input_fn, mu, sigma)\n",
        "    check, check_count=read_check_data(check_fn)\n",
        "else:\n",
        "    beta, bias, feature_count=read_model_data(model_fn)\n",
        "    x, input_count=read_input_data(input_fn)\n",
        "    check, check_count=read_check_data(check_fn)"
      ],
      "execution_count": 139,
      "outputs": [
        {
          "output_type": "stream",
          "name": "stdout",
          "text": [
            "verbose  True\n",
            "model  credit\n",
            "s  14.25\n"
          ]
        }
      ]
    },
    {
      "cell_type": "code",
      "metadata": {
        "colab": {
          "base_uri": "https://localhost:8080/",
          "height": 0
        },
        "id": "5bl4THVIV6Zd",
        "outputId": "62066c6f-7b96-4424-8301-14f1ab210697"
      },
      "source": [
        "print(\"feature_count:\", feature_count)\n",
        "print(\"input_count:\", input_count)\n",
        "print(\"check_count:\", check_count)\n",
        "\n",
        "if num_test > input_count:\n",
        "    num_test=input_count\n",
        "\n",
        "if num_test == -1:\n",
        "    num_test=input_count\n",
        "\n",
        "print(\"number to test:\", num_test)\n",
        "\n",
        "# CKKS related parameters\n",
        "max_depth=1\n",
        "scale_factor=50\n",
        "batch_size=next_power_of_2(feature_count + 1)\n",
        "\n",
        "print(\"-----Initializing ckks wrapper-----\")\n",
        "st=tic()\n",
        "crypto=pycrypto.CKKSwrapper()\n",
        "print_toc(st, \"Initialized wrapper\")\n"
      ],
      "execution_count": 140,
      "outputs": [
        {
          "output_type": "stream",
          "name": "stdout",
          "text": [
            "feature_count: 28\n",
            "input_count: 121\n",
            "check_count: 38\n",
            "number to test: 1\n",
            "-----Initializing ckks wrapper-----\n",
            "Initialized wrapper  0.086 ms\n"
          ]
        },
        {
          "output_type": "execute_result",
          "data": {
            "text/plain": [
              "0.08581700001286663"
            ]
          },
          "metadata": {},
          "execution_count": 140
        }
      ]
    },
    {
      "cell_type": "code",
      "metadata": {
        "id": "pQ_G0_iKYN25",
        "colab": {
          "base_uri": "https://localhost:8080/",
          "height": 0
        },
        "outputId": "5c4d981d-afbe-4d72-e858-b1eb2d8ecacb"
      },
      "source": [
        "st=tic()\n",
        "crypto.KeyGen(max_depth, scale_factor, batch_size)\n",
        "print_toc(st, \"Keys generated\")"
      ],
      "execution_count": 141,
      "outputs": [
        {
          "output_type": "stream",
          "name": "stdout",
          "text": [
            "Keys generated  187.469 ms\n"
          ]
        },
        {
          "output_type": "execute_result",
          "data": {
            "text/plain": [
              "187.46906299998045"
            ]
          },
          "metadata": {},
          "execution_count": 141
        }
      ]
    },
    {
      "cell_type": "code",
      "metadata": {
        "id": "FDU2rmUeYOMQ",
        "colab": {
          "base_uri": "https://localhost:8080/",
          "height": 0
        },
        "outputId": "0fbf538f-3b02-4de5-a47a-2181fb92a015"
      },
      "source": [
        "st=tic()\n",
        "enc_beta=crypto.Encrypt(beta)\n",
        "print_toc(st, \"Betas encrypted\")\n",
        "st=tic()\n",
        "enc_bias=crypto.Encrypt(bias)\n",
        "print_toc(st, \"Bias encrypted\")\n",
        "\n",
        "x, check=shuffle_data(x, check)\n",
        "print(\"input shuffled\")\n",
        "\n",
        "print_num=10\n",
        "print(\"-----START SVM-----\")\n",
        "print(\"\\nPlaintext version\")\n",
        "st=tic()\n",
        "res_plain=lsvm_plain_beta_plain_input(beta, bias, x, num_test)\n",
        "plain_time = print_toc(st, \"Plaintext SVM runtime\")\n",
        "if verbose:\n",
        "    print(\"result for plaintext case:      \",\n",
        "          [round(i,2) for i in res_plain[0:print_num]], \"...\"\n",
        "    )\n",
        "\n",
        "print(\"\\nEncrypted model, Plaintext input data\")\n",
        "st=tic()\n",
        "enc_res_plain_input=lsvm_enc_beta_plain_input(crypto,enc_beta, enc_bias, x, num_test)\n",
        "res_plain_input=dec_output(crypto, enc_res_plain_input, num_test)\n",
        "plain_in_time = print_toc(st, \"Encrypted model plaintext input SVM runtime\")\n",
        "slowdown = float(plain_in_time)/float(plain_time)\n",
        "y_true=plain_in_time\n",
        "print(\"{0:g} x plaintext runtime\".format(slowdown))\n",
        "if verbose:\n",
        "    print(\"result for plain input case:\",\n",
        "          [round(i,2) for i in res_plain[0:print_num]], \"...\"\n",
        "    )\n",
        "print(\"\\nEncrypted model, Encrypted input data\")\n",
        "st = tic()\n",
        "enc_x = enc_input(crypto, x, num_test)\n",
        "enc_res_enc_input = lsvm_enc_beta_enc_input(crypto,enc_beta, enc_bias, enc_x, num_test)\n",
        "res_enc_input = dec_output(crypto, enc_res_enc_input, num_test)\n",
        "enc_in_time = print_toc(st, \"Encrypted model encrypted input SVM runtime\")\n",
        "slowdown = float(enc_in_time)/float(plain_time)\n",
        "y_pred=enc_in_time\n",
        "print(\"{0:g} x plaintext runtime\".format(slowdown))\n",
        "if verbose:\n",
        "    print(\"result for enc input case:  \",\n",
        "          [round(i,2) for i in res_plain[0:print_num]], \"...\"\n",
        "    )"
      ],
      "execution_count": 142,
      "outputs": [
        {
          "output_type": "stream",
          "name": "stdout",
          "text": [
            "Betas encrypted  8.640 ms\n",
            "Bias encrypted  11.406 ms\n",
            "input shuffled\n",
            "-----START SVM-----\n",
            "\n",
            "Plaintext version\n",
            "Plaintext SVM runtime  0.096 ms\n",
            "result for plaintext case:       [36.74] ...\n",
            "\n",
            "Encrypted model, Plaintext input data\n",
            "Encrypted model plaintext input SVM runtime  61.057 ms\n",
            "633.178 x plaintext runtime\n",
            "result for plain input case: [36.74] ...\n",
            "\n",
            "Encrypted model, Encrypted input data\n",
            "Encrypted model encrypted input SVM runtime  69.840 ms\n",
            "724.268 x plaintext runtime\n",
            "result for enc input case:   [36.74] ...\n"
          ]
        }
      ]
    },
    {
      "cell_type": "code",
      "source": [
        "# calculates f1 for 1:100 dataset with 95tp, 5fn, 55fp\n",
        "from sklearn.metrics import f1_score\n",
        "# define actual\n",
        "act_pos = [1 for _ in range(100)]\n",
        "act_neg = [0 for _ in range(10000)]\n",
        "y_true = act_pos + act_neg\n",
        "# define predictions\n",
        "pred_pos = [0 for _ in range(5)] + [1 for _ in range(95)]\n",
        "pred_neg = [1 for _ in range(55)] + [0 for _ in range(9945)]\n",
        "y_pred = pred_pos + pred_neg\n",
        "# calculate score\n",
        "score = f1_score(y_true, y_pred, average='binary')\n",
        "print('F-Measure: %.3f' % score)"
      ],
      "metadata": {
        "colab": {
          "base_uri": "https://localhost:8080/",
          "height": 0
        },
        "id": "vRPifyhr-Zey",
        "outputId": "df4371e3-ec46-4244-abfa-4a91bd88e77f"
      },
      "execution_count": 143,
      "outputs": [
        {
          "output_type": "stream",
          "name": "stdout",
          "text": [
            "F-Measure: 0.760\n"
          ]
        }
      ]
    },
    {
      "cell_type": "code",
      "source": [
        "x=y_true\n",
        "y=y_pred\n",
        "# Apply min-max normalization\n",
        "x = (x - np.min(x)) / (np.max(x) - np.min(x) )"
      ],
      "metadata": {
        "id": "rvfLsUQF_rYF"
      },
      "execution_count": 144,
      "outputs": []
    },
    {
      "cell_type": "code",
      "source": [
        "def a_simple_classifier(x, thres = 0.5):\n",
        "    predicted = np.zeros(len(x))\n",
        "    for i in range(len(x)):\n",
        "        if x[i] < thres:\n",
        "            predicted[i] = 1 \n",
        "    return predicted"
      ],
      "metadata": {
        "id": "rny-Rjca_Eob"
      },
      "execution_count": 145,
      "outputs": []
    },
    {
      "cell_type": "code",
      "source": [
        "def calculate_metrics(predicted, actual):\n",
        "    TP, FP, TN, FN = 0, 0, 0, 0\n",
        "    for i in range(len(predicted)):\n",
        "        if   (predicted[i] == 0) & (actual[i] == 0):\n",
        "            TP += 1\n",
        "        elif (predicted[i] == 0) & (actual[i] == 1):\n",
        "            FP += 1\n",
        "        elif (predicted[i] == 1) & (actual[i] == 1):\n",
        "            TN += 1\n",
        "        else:\n",
        "            FN += 1\n",
        "\n",
        "    accuracy  = (TP + TN) / (TP + FP + TN + FN) \n",
        "    precision = (TP) / (TP + FP) \n",
        "    recall    = (TP) / (TP + FN) \n",
        "    f1_score  = (2 * precision * recall) / (precision + recall)\n",
        "    \n",
        "    return accuracy, precision, recall, f1_score"
      ],
      "metadata": {
        "id": "7DG9iUzi-8XQ"
      },
      "execution_count": 146,
      "outputs": []
    },
    {
      "cell_type": "code",
      "source": [
        "thresh = np.linspace(0,1,1) \n",
        "accuracy = np.zeros(len(thresh))\n",
        "precision = np.zeros(len(thresh))\n",
        "recall = np.zeros(len(thresh))\n",
        "f1_score = np.zeros(len(thresh))\n",
        "\n",
        "print('Accuracy \\t Precision\\t Recall \\t  F1 Score ')\n",
        "\n",
        "for i in range(len(thresh)):\n",
        "    prediction = a_simple_classifier(x, thresh[i])\n",
        "    accuracy[i], precision[i], recall[i], f1_score[i]=calculate_metrics(prediction, y)\n",
        "    print(f'{accuracy[i]: .2f}\\t\\t {precision[i]: .2f}\\t\\t {recall[i]: .2f}\\t\\t {f1_score[i]: .2f}')"
      ],
      "metadata": {
        "colab": {
          "base_uri": "https://localhost:8080/",
          "height": 0
        },
        "id": "NAUi7BTe_D39",
        "outputId": "25fb9f00-b20f-4377-f6a3-ecee2fa049d9"
      },
      "execution_count": 147,
      "outputs": [
        {
          "output_type": "stream",
          "name": "stdout",
          "text": [
            "Accuracy \t Precision\t Recall \t  F1 Score \n",
            " 0.99\t\t  0.99\t\t  1.000\t\t  0.99\n"
          ]
        }
      ]
    },
    {
      "cell_type": "markdown",
      "metadata": {
        "id": "-DdL1fa4NXxq"
      },
      "source": [
        "# Playground"
      ]
    },
    {
      "cell_type": "code",
      "metadata": {
        "id": "MgvyH79Q0OZW"
      },
      "source": [
        "crypto.KeyGen(2, 50, 1)"
      ],
      "execution_count": 148,
      "outputs": []
    },
    {
      "cell_type": "code",
      "metadata": {
        "id": "Zmi4xMPL0XlH"
      },
      "source": [
        "e1 = crypto.Encrypt( [ 0.0 ])"
      ],
      "execution_count": 149,
      "outputs": []
    },
    {
      "cell_type": "code",
      "metadata": {
        "id": "x-RA_qQO0qaf"
      },
      "source": [
        "e2 = crypto.Encrypt( [ 1.1 ] )"
      ],
      "execution_count": 150,
      "outputs": []
    },
    {
      "cell_type": "code",
      "metadata": {
        "id": "YGHdlQlS0tU9"
      },
      "source": [
        "e3 = crypto.EvalAdd(e1,e2)"
      ],
      "execution_count": 151,
      "outputs": []
    },
    {
      "cell_type": "code",
      "metadata": {
        "colab": {
          "base_uri": "https://localhost:8080/",
          "height": 0
        },
        "id": "2aqWp0qX0xLk",
        "outputId": "d3af0389-9574-42af-d6ad-8e6a38a4efa7"
      },
      "source": [
        "crypto.Decrypt(e3)[0]"
      ],
      "execution_count": 152,
      "outputs": [
        {
          "output_type": "execute_result",
          "data": {
            "text/plain": [
              "1.100000000023181"
            ]
          },
          "metadata": {},
          "execution_count": 152
        }
      ]
    },
    {
      "cell_type": "code",
      "metadata": {
        "id": "EB_x9ruG0y_O"
      },
      "source": [
        "m1 = crypto.EvalMult(e2,e3)"
      ],
      "execution_count": 153,
      "outputs": []
    },
    {
      "cell_type": "code",
      "metadata": {
        "id": "quSBpSJd1IJ-"
      },
      "source": [
        "m2 = crypto.EvalMult(m1,e3)"
      ],
      "execution_count": 154,
      "outputs": []
    },
    {
      "cell_type": "code",
      "metadata": {
        "id": "Buq02wiN1Ldx",
        "outputId": "8d80be6d-f9ff-4561-9ab5-6ea0eabf384c",
        "colab": {
          "base_uri": "https://localhost:8080/",
          "height": 0
        }
      },
      "source": [
        "crypto.Decrypt(m2)[0]"
      ],
      "execution_count": 155,
      "outputs": [
        {
          "output_type": "execute_result",
          "data": {
            "text/plain": [
              "1.3309999999647584"
            ]
          },
          "metadata": {},
          "execution_count": 155
        }
      ]
    },
    {
      "cell_type": "code",
      "metadata": {
        "id": "o9XBUqvfD-BF"
      },
      "source": [],
      "execution_count": 155,
      "outputs": []
    }
  ]
}